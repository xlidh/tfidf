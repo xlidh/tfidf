{
 "cells": [
  {
   "cell_type": "code",
   "execution_count": 1,
   "metadata": {},
   "outputs": [],
   "source": [
    "import openpyxl"
   ]
  },
  {
   "cell_type": "code",
   "execution_count": 2,
   "metadata": {},
   "outputs": [],
   "source": [
    "srcFilePath = r'C:\\Users\\hasee\\Desktop\\BJ_Text\\AI＋精神用-自杀风险6-10级汇总（2018.11.06-2020.01.28）未剔除重复.xlsx'\n",
    "srcFile = openpyxl.load_workbook(srcFilePath)\n",
    "srcDatasheet = srcFile.worksheets[0]\n",
    "srcDatasheet.delete_rows(0) # 删去表头"
   ]
  },
  {
   "cell_type": "code",
   "execution_count": 3,
   "metadata": {},
   "outputs": [],
   "source": [
    "#print(len(srcDatasheet[\"G\"]))\n",
    "#print(srcDatasheet[\"G2\"].value)\n",
    "srcTextList = srcDatasheet[\"G\"]\n",
    "srcTextList = [str(srcTextList[i].value) for i in range(len(srcTextList))]"
   ]
  },
  {
   "cell_type": "code",
   "execution_count": null,
   "metadata": {},
   "outputs": [],
   "source": []
  },
  {
   "cell_type": "code",
   "execution_count": 4,
   "metadata": {},
   "outputs": [],
   "source": [
    "import jieba\n",
    "import jieba.analyse"
   ]
  },
  {
   "cell_type": "code",
   "execution_count": 5,
   "metadata": {},
   "outputs": [
    {
     "name": "stderr",
     "output_type": "stream",
     "text": [
      "Building prefix dict from the default dictionary ...\n",
      "Loading model from cache C:\\Users\\hasee\\AppData\\Local\\Temp\\jieba.cache\n",
      "Loading model cost 1.300 seconds.\n",
      "Prefix dict has been built succesfully.\n"
     ]
    },
    {
     "name": "stdout",
     "output_type": "stream",
     "text": [
      "我 割腕 了 ， 我 曾经 的 理想 是 死 在 20 岁\n",
      "我 又 死 不成 了 & nbsp ; & nbsp ; 割腕 割 着 割 着 太痛 了 & nbsp ; & nbsp ; 不忍 下手 了 & nbsp ; & nbsp ; & nbsp ; 想 去 跳楼 被 我 爸 看到 拦住 了 & nbsp ; & nbsp ; & nbsp ; 饭 & nbsp ; & nbsp ; 我 好 难过\n"
     ]
    }
   ],
   "source": [
    "#seg_list = jieba.cut(srcTextList[0])   #默认模式\n",
    "#print([\" \".join(seg_list) ])\n",
    "tagTextList = [\" \".join(jieba.cut(srcTextList[i])) for i in range(len(srcTextList))]\n",
    "print(tagTextList[0])\n",
    "print(tagTextList[1])"
   ]
  },
  {
   "cell_type": "code",
   "execution_count": 39,
   "metadata": {},
   "outputs": [],
   "source": [
    "from sklearn import feature_extraction\n",
    "from sklearn.feature_extraction.text import CountVectorizer\n",
    "from sklearn.feature_extraction.text import TfidfTransformer\n",
    "\n",
    "stopWords = [\"nbsp\"]\n",
    "vectorizer = CountVectorizer(stop_words=stopWords)\n",
    "transformer=TfidfTransformer()\n",
    "tf = vectorizer.fit_transform(tagTextList)\n",
    "tfidf = transformer.fit_transform(tf)\n",
    "tag = vectorizer.get_feature_names()\n",
    "weight = tfidf.toarray()\n",
    "\n",
    "resultMap = []\n",
    "tagDB = []\n",
    "weightDB = []\n",
    "for i in range(len(weight)):\n",
    "    sortedWeight, sortedTag = zip(*sorted(zip(weight[i],tag), reverse=True))\n",
    "    tagDB.append(sortedTag)\n",
    "    weightDB.append(sortedWeight)\n",
    "\n"
   ]
  },
  {
   "cell_type": "raw",
   "metadata": {},
   "source": [
    "from sklearn import feature_extraction  \n",
    "from sklearn.feature_extraction.text import TfidfTransformer  \n",
    "from sklearn.feature_extraction.text import CountVectorizer  \n",
    "corpus=[\"我 来到 北京 清华大学\",#第一类文本切词后的结果，词之间以空格隔开  \n",
    "       \"他 来到 了 网易 杭研 大厦\",#第二类文本的切词结果  \n",
    "        \"小明 硕士 毕业 与 中国 科学院\",#第三类文本的切词结果  \n",
    "        \"我 爱 北京 天安门\"]#第四类文本的切词结果  \n",
    "vectorizer=CountVectorizer()#该类会将文本中的词语转换为词频矩阵，矩阵元素a[i][j] 表示j词在i类文本下的词频  \n",
    "transformer=TfidfTransformer()#该类会统计每个词语的tf-idf权值  \n",
    "tfidf=transformer.fit_transform(vectorizer.fit_transform(corpus))#第一个fit_transform是计算tf-idf，第二个fit_transform是将文本转为词频矩阵  \n",
    "word=vectorizer.get_feature_names()#获取词袋模型中的所有词语  \n",
    "weight=tfidf.toarray()#将tf-idf矩阵抽取出来，元素a[i][j]表示j词在i类文本中的tf-idf权重  \n",
    "for i in range(len(weight)):#打印每类文本的tf-idf词语权重，第一个for遍历所有文本，第二个for便利某一类文本下的词语权重  \n",
    "    print (u\"-------这里输出第\",i,u\"类文本的词语tf-idf权重------\"  )\n",
    "    for j in range(len(word)):  \n",
    "        print (word[j],weight[i][j]  )"
   ]
  },
  {
   "cell_type": "code",
   "execution_count": 26,
   "metadata": {},
   "outputs": [
    {
     "name": "stdout",
     "output_type": "stream",
     "text": [
      "7120\n",
      "7120\n"
     ]
    }
   ],
   "source": [
    "print(len(tagDB[0]))\n",
    "print(len(weightDB[0]))"
   ]
  },
  {
   "cell_type": "code",
   "execution_count": 41,
   "metadata": {},
   "outputs": [
    {
     "name": "stdout",
     "output_type": "stream",
     "text": [
      "第 0 个语句的关键字：\n",
      "理想 \t:\t 0.6606311689517232\n",
      "20 \t:\t 0.5368692565998746\n",
      "曾经 \t:\t 0.4775796414241367\n",
      "割腕 \t:\t 0.21738340788701097\n",
      "鼻涕 \t:\t 0.0\n",
      "\n",
      "\n",
      "第 1 个语句的关键字：\n",
      "不忍 \t:\t 0.4560205779513192\n",
      "拦住 \t:\t 0.41977924291687857\n",
      "太痛 \t:\t 0.3985794209456589\n",
      "下手 \t:\t 0.3985794209456589\n",
      "不成 \t:\t 0.3718708039386258\n",
      "\n",
      "\n",
      "第 2 个语句的关键字：\n",
      "欢快 \t:\t 0.41812493014234586\n",
      "梦寐 \t:\t 0.41812493014234586\n",
      "已久 \t:\t 0.41812493014234586\n",
      "我梦到 \t:\t 0.4036609665152684\n",
      "寻求 \t:\t 0.4036609665152684\n",
      "\n",
      "\n",
      "第 3 个语句的关键字：\n",
      "求助 \t:\t 0.706757389634555\n",
      "一斤 \t:\t 0.6739011292780411\n",
      "烧炭 \t:\t 0.21529342803423085\n",
      "鼻涕 \t:\t 0.0\n",
      "鼻子 \t:\t 0.0\n",
      "\n",
      "\n",
      "第 4 个语句的关键字：\n",
      "气死我了 \t:\t 0.4880631745766245\n",
      "头好 \t:\t 0.46537373266982257\n",
      "刀片 \t:\t 0.38331890459000806\n",
      "锋利 \t:\t 0.37917189293502684\n",
      "刀割 \t:\t 0.37917189293502684\n",
      "\n",
      "\n",
      "第 5 个语句的关键字：\n",
      "难受 \t:\t 0.4999632002219979\n",
      "打字 \t:\t 0.3106658668813028\n",
      "我燥 \t:\t 0.3106658668813028\n",
      "郁症 \t:\t 0.2859763105108617\n",
      "拯救 \t:\t 0.2715338458747125\n",
      "\n",
      "\n",
      "第 6 个语句的关键字：\n",
      "理想 \t:\t 0.6606311689517232\n",
      "20 \t:\t 0.5368692565998746\n",
      "曾经 \t:\t 0.4775796414241367\n",
      "割腕 \t:\t 0.21738340788701097\n",
      "鼻涕 \t:\t 0.0\n",
      "\n",
      "\n",
      "第 7 个语句的关键字：\n",
      "防止 \t:\t 0.6225678152333689\n",
      "绑住 \t:\t 0.31128390761668445\n",
      "约束 \t:\t 0.31128390761668445\n",
      "脚上 \t:\t 0.30051583617944805\n",
      "杀死 \t:\t 0.27956916150299954\n",
      "\n",
      "\n",
      "第 8 个语句的关键字：\n",
      "欢快 \t:\t 0.41812493014234586\n",
      "梦寐 \t:\t 0.41812493014234586\n",
      "已久 \t:\t 0.41812493014234586\n",
      "我梦到 \t:\t 0.4036609665152684\n",
      "寻求 \t:\t 0.4036609665152684\n",
      "\n",
      "\n",
      "第 9 个语句的关键字：\n",
      "抑郁症 \t:\t 0.36080033409465523\n",
      "现在 \t:\t 0.27589535492455025\n",
      "家人 \t:\t 0.2604275126345849\n",
      "生活 \t:\t 0.25200833264348305\n",
      "祝愿 \t:\t 0.20663857526318397\n",
      "\n",
      "\n",
      "第 10 个语句的关键字：\n",
      "防止 \t:\t 0.6225678152333689\n",
      "绑住 \t:\t 0.31128390761668445\n",
      "约束 \t:\t 0.31128390761668445\n",
      "脚上 \t:\t 0.30051583617944805\n",
      "杀死 \t:\t 0.27956916150299954\n",
      "\n",
      "\n",
      "第 11 个语句的关键字：\n",
      "必死无疑 \t:\t 0.373075448905889\n",
      "黄昏 \t:\t 0.20769884444144573\n",
      "老天 \t:\t 0.20769884444144573\n",
      "王心凌 \t:\t 0.20769884444144573\n",
      "前度 \t:\t 0.20769884444144573\n",
      "\n",
      "\n",
      "第 12 个语句的关键字：\n",
      "抑郁症 \t:\t 0.36080033409465523\n",
      "现在 \t:\t 0.27589535492455025\n",
      "家人 \t:\t 0.2604275126345849\n",
      "生活 \t:\t 0.25200833264348305\n",
      "祝愿 \t:\t 0.20663857526318397\n",
      "\n",
      "\n",
      "第 13 个语句的关键字：\n",
      "所有人 \t:\t 0.3639787662758238\n",
      "恶心 \t:\t 0.35752464650062\n",
      "一样 \t:\t 0.2724648774711658\n",
      "痛痛快快 \t:\t 0.22785356189222522\n",
      "基地 \t:\t 0.22785356189222522\n",
      "\n",
      "\n",
      "第 14 个语句的关键字：\n",
      "鬼能 \t:\t 0.6086723966555279\n",
      "多久 \t:\t 0.4515602791350207\n",
      "哪个 \t:\t 0.4013744769064878\n",
      "告诉 \t:\t 0.354814205295503\n",
      "的话 \t:\t 0.3422436431787464\n",
      "\n",
      "\n",
      "第 15 个语句的关键字：\n",
      "害怕 \t:\t 0.368501017549753\n",
      "透透 \t:\t 0.31033027277245206\n",
      "颓废 \t:\t 0.28446494037468\n",
      "以上 \t:\t 0.26933469085329537\n",
      "20 \t:\t 0.24346935845552334\n",
      "\n",
      "\n",
      "第 16 个语句的关键字：\n",
      "那时 \t:\t 0.44397552150688224\n",
      "眉刀 \t:\t 0.35519271348064224\n",
      "房间 \t:\t 0.2629605176083305\n",
      "跑出去 \t:\t 0.1862551226659393\n",
      "玩游戏 \t:\t 0.1862551226659393\n",
      "\n",
      "\n",
      "第 17 个语句的关键字：\n",
      "上瘾 \t:\t 0.9472160915663445\n",
      "割腕 \t:\t 0.3205958138806218\n",
      "鼻涕 \t:\t 0.0\n",
      "鼻子 \t:\t 0.0\n",
      "鼓鼓的 \t:\t 0.0\n",
      "\n",
      "\n",
      "第 18 个语句的关键字：\n",
      "必死无疑 \t:\t 0.373075448905889\n",
      "黄昏 \t:\t 0.20769884444144573\n",
      "老天 \t:\t 0.20769884444144573\n",
      "王心凌 \t:\t 0.20769884444144573\n",
      "前度 \t:\t 0.20769884444144573\n",
      "\n",
      "\n",
      "第 19 个语句的关键字：\n",
      "所有人 \t:\t 0.3639787662758238\n",
      "恶心 \t:\t 0.35752464650062\n",
      "一样 \t:\t 0.2724648774711658\n",
      "痛痛快快 \t:\t 0.22785356189222522\n",
      "基地 \t:\t 0.22785356189222522\n",
      "\n",
      "\n"
     ]
    }
   ],
   "source": [
    "topN = 5\n",
    "\n",
    "for sentence in range(20): # tarDB for full\n",
    "    print(u\"第\", sentence, u\"个语句的关键字：\")\n",
    "    for i in range(topN):\n",
    "        print(tagDB[sentence][i], \"\\t:\\t\", weightDB[sentence][i])\n",
    "    print(\"\\n\")\n"
   ]
  },
  {
   "cell_type": "code",
   "execution_count": null,
   "metadata": {},
   "outputs": [],
   "source": []
  }
 ],
 "metadata": {
  "kernelspec": {
   "display_name": "Python 3",
   "language": "python",
   "name": "python3"
  },
  "language_info": {
   "codemirror_mode": {
    "name": "ipython",
    "version": 3
   },
   "file_extension": ".py",
   "mimetype": "text/x-python",
   "name": "python",
   "nbconvert_exporter": "python",
   "pygments_lexer": "ipython3",
   "version": "3.7.3"
  }
 },
 "nbformat": 4,
 "nbformat_minor": 2
}
