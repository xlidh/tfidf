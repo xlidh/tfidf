{
 "cells": [
  {
   "cell_type": "code",
   "execution_count": null,
   "metadata": {},
   "outputs": [],
   "source": [
    "import openpyxl"
   ]
  },
  {
   "cell_type": "code",
   "execution_count": null,
   "metadata": {},
   "outputs": [],
   "source": [
    "srcFilePath = r'C:\\Users\\hasee\\Desktop\\BJ_Text\\AI＋精神用-自杀风险6-10级汇总（2018.11.06-2020.01.28）未剔除重复.xlsx'\n",
    "srcFile = openpyxl.load_workbook(srcFilePath)\n",
    "srcDatasheet = srcFile.worksheets[0]\n",
    "srcDatasheet.delete_rows(0) # 删去表头"
   ]
  },
  {
   "cell_type": "code",
   "execution_count": null,
   "metadata": {},
   "outputs": [],
   "source": [
    "#print(len(srcDatasheet[\"G\"]))\n",
    "#print(srcDatasheet[\"G2\"].value)\n",
    "srcTextList = srcDatasheet[\"G\"]\n",
    "srcTextList = [str(srcTextList[i].value) for i in range(len(srcTextList))]"
   ]
  },
  {
   "cell_type": "code",
   "execution_count": null,
   "metadata": {},
   "outputs": [],
   "source": [
    "import jieba\n",
    "import jieba.analyse"
   ]
  },
  {
   "cell_type": "code",
   "execution_count": null,
   "metadata": {},
   "outputs": [],
   "source": [
    "#seg_list = jieba.cut(srcTextList[0])   #默认模式\n",
    "#print([\" \".join(seg_list) ])\n",
    "tagTextList = [\" \".join(jieba.cut(srcTextList[i])) for i in range(len(srcTextList))]\n",
    "print(tagTextList[0])\n",
    "print(tagTextList[1])"
   ]
  },
  {
   "cell_type": "code",
   "execution_count": null,
   "metadata": {},
   "outputs": [],
   "source": [
    "from sklearn import feature_extraction\n",
    "from sklearn.feature_extraction.text import CountVectorizer\n",
    "from sklearn.feature_extraction.text import TfidfTransformer\n",
    "\n",
    "stopWords = [\"nbsp\"]\n",
    "vectorizer = CountVectorizer(stop_words=stopWords)\n",
    "transformer=TfidfTransformer()\n",
    "tf = vectorizer.fit_transform(tagTextList)\n",
    "tfidf = transformer.fit_transform(tf)\n",
    "tag = vectorizer.get_feature_names()\n",
    "weight = tfidf.toarray()\n",
    "\n",
    "resultMap = []\n",
    "tagDB = []\n",
    "weightDB = []\n",
    "for i in range(len(weight)):\n",
    "    sortedWeight, sortedTag = zip(*sorted(zip(weight[i],tag), reverse=True))\n",
    "    tagDB.append(sortedTag)\n",
    "    weightDB.append(sortedWeight)\n",
    "\n"
   ]
  },
  {
   "cell_type": "code",
   "execution_count": null,
   "metadata": {},
   "outputs": [],
   "source": [
    "print(len(tagDB[0]))\n",
    "print(len(weightDB[0]))"
   ]
  },
  {
   "cell_type": "code",
   "execution_count": null,
   "metadata": {},
   "outputs": [],
   "source": [
    "topN = 5\n",
    "\n",
    "for sentence in range(20): # tarDB for full\n",
    "    print(u\"第\", sentence, u\"个语句的关键字：\")\n",
    "    for i in range(topN):\n",
    "        print(tagDB[sentence][i], \"\\t:\\t\", weightDB[sentence][i])\n",
    "    print(\"\\n\")\n"
   ]
  },
  {
   "cell_type": "code",
   "execution_count": null,
   "metadata": {},
   "outputs": [],
   "source": []
  }
 ],
 "metadata": {
  "kernelspec": {
   "display_name": "Python 3",
   "language": "python",
   "name": "python3"
  },
  "language_info": {
   "codemirror_mode": {
    "name": "ipython",
    "version": 3
   },
   "file_extension": ".py",
   "mimetype": "text/x-python",
   "name": "python",
   "nbconvert_exporter": "python",
   "pygments_lexer": "ipython3",
   "version": "3.7.3"
  }
 },
 "nbformat": 4,
 "nbformat_minor": 2
}
